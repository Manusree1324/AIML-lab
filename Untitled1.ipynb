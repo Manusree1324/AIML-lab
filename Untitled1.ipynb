{
  "nbformat": 4,
  "nbformat_minor": 0,
  "metadata": {
    "colab": {
      "provenance": [],
      "authorship_tag": "ABX9TyME8+NOIS6xKEeORbgji2ZW",
      "include_colab_link": true
    },
    "kernelspec": {
      "name": "python3",
      "display_name": "Python 3"
    },
    "language_info": {
      "name": "python"
    }
  },
  "cells": [
    {
      "cell_type": "markdown",
      "metadata": {
        "id": "view-in-github",
        "colab_type": "text"
      },
      "source": [
        "<a href=\"https://colab.research.google.com/github/Manusree1324/AIML-lab/blob/main/Untitled1.ipynb\" target=\"_parent\"><img src=\"https://colab.research.google.com/assets/colab-badge.svg\" alt=\"Open In Colab\"/></a>"
      ]
    },
    {
      "cell_type": "code",
      "execution_count": 10,
      "metadata": {
        "colab": {
          "base_uri": "https://localhost:8080/"
        },
        "id": "ruAS1nsmrwBb",
        "outputId": "8b7bcc40-bad3-4be3-d020-133d5d93812f"
      },
      "outputs": [
        {
          "output_type": "stream",
          "name": "stdout",
          "text": [
            "4.3\n"
          ]
        }
      ],
      "source": [
        "inputs=[1,2,3]\n",
        "weights=[0.2,0.3,0.5,]\n",
        "bias=2\n",
        "output=inputs[0]*weights[0]+inputs[1]*weights[1]+inputs[2]*weights[2]+bias\n",
        "print(output)"
      ]
    },
    {
      "cell_type": "code",
      "source": [
        "inputs=[0.4,0.3,1,0.8]\n",
        "weights1=[0.3,0.2,0.1,0.4]\n",
        "weights2=[0.5,0.1,-0.1,0.4,]\n",
        "weights3=[0.4,-0.4,-0.1,0.6,]\n",
        "bias1=0.5\n",
        "bias2=0.2\n",
        "bias3=0.6\n",
        "output=[inputs[0]*weights1[0]+inputs[1]*weights1[2]+inputs[2]*weights1[2]+inputs[3]*weights1[3]+bias1,\n",
        "       inputs[0]*weights2[0]+inputs[1]*weights2[2]+inputs[2]*weights2[2]+inputs[3]*weights2[3]+bias2,\n",
        "       inputs[0]*weights3[0]+inputs[1]*weights3[2]+inputs[2]*weights3[2]+inputs[3]*weights3[3]+bias3]\n",
        "print(output)"
      ],
      "metadata": {
        "colab": {
          "base_uri": "https://localhost:8080/"
        },
        "id": "XqKrczANvcs-",
        "outputId": "70ec947f-d0ae-433d-8570-701347393ab5"
      },
      "execution_count": 14,
      "outputs": [
        {
          "output_type": "stream",
          "name": "stdout",
          "text": [
            "[1.07, 0.5900000000000001, 1.1099999999999999]\n"
          ]
        }
      ]
    },
    {
      "cell_type": "code",
      "source": [
        "import numpy as np\n",
        "inputs=np.array([1,2,3,2.5])\n",
        "weights=np.array([\n",
        "    [0.3,0.2,0.1,0.4],\n",
        "    [0.5,0.1,-0.1,0.4],\n",
        "    [0.4,-0.4,-0.1,0.6]\n",
        "  ])\n",
        "biases=np.array([2,3,0.5])\n",
        "\n",
        "output=np.dot(weights,inputs)+biases\n",
        "print(output)"
      ],
      "metadata": {
        "colab": {
          "base_uri": "https://localhost:8080/"
        },
        "id": "DTsrPgDl00Qp",
        "outputId": "0b23b623-eed1-4ccb-b679-12fd47d57e83"
      },
      "execution_count": 18,
      "outputs": [
        {
          "output_type": "stream",
          "name": "stdout",
          "text": [
            "[4.  4.4 1.3]\n"
          ]
        }
      ]
    }
  ]
}